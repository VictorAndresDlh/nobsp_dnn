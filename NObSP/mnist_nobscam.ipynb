{
 "cells": [
  {
   "cell_type": "code",
   "execution_count": 1,
   "metadata": {},
   "outputs": [],
   "source": [
    "import torch    \n",
    "from Classifier_NN import Classifier_NN\n",
    "import numpy as np\n",
    "import torchvision\n",
    "import matplotlib.pyplot as plt\n",
    "from torch import nn\n",
    "from sklearn.model_selection import train_test_split\n",
    "from NObSP_Decomposition import NObSP_NN_single_MultiOutput\n",
    "import torch.nn.functional as F"
   ]
  },
  {
   "cell_type": "code",
   "execution_count": 2,
   "metadata": {},
   "outputs": [],
   "source": [
    "# functions to show an image\n",
    "def imshow(img):\n",
    "    plt.figure(figsize=(2, 2))\n",
    "    img = img / 2 + 0.5  # unnormalize\n",
    "    npimg = img.numpy()\n",
    "    plt.imshow(np.transpose(npimg, (1, 2, 0)))\n",
    "    plt.axis(\"off\")\n",
    "    plt.show()"
   ]
  },
  {
   "cell_type": "code",
   "execution_count": 3,
   "metadata": {},
   "outputs": [],
   "source": [
    "# Cargar los tensores guardados\n",
    "images = torch.load('train_images_mnist.pth')\n",
    "X = torch.load('train_tensors_mnist.pth')\n",
    "y = torch.load('train_labels_mnist.pth')\n",
    "\n",
    "X = torch.cat(X).detach()\n",
    "y = F.one_hot(torch.cat(y))\n",
    "\n",
    "labels = tuple(str(i) for i in range(10))"
   ]
  },
  {
   "cell_type": "code",
   "execution_count": 4,
   "metadata": {},
   "outputs": [
    {
     "data": {
      "image/png": "[encoded data removed]",
      "text/plain": [
       "<Figure size 200x200 with 1 Axes>"
      ]
     },
     "metadata": {},
     "output_type": "display_data"
    }
   ],
   "source": [
    "imshow(torchvision.utils.make_grid(images[1000]))"
   ]
  },
  {
   "cell_type": "code",
   "execution_count": 5,
   "metadata": {},
   "outputs": [],
   "source": [
    "X_sample = []\n",
    "y_sample = []\n",
    "index_used = []\n",
    "\n",
    "sample_size = 150\n",
    "# Supongamos que 'num_classes' es el número de clases en tus etiquetas\n",
    "for i in range(10):\n",
    "    indices = torch.where(y.argmax(dim=1) == i)[0]\n",
    "    indices = indices[torch.randperm(len(indices))[:sample_size]]\n",
    "    index_used.append(indices)\n",
    "    X_sample.append(X[indices])\n",
    "    y_sample.append(y[indices])\n",
    "\n",
    "# Verifica que cada tensor en X_sample y y_sample es diferente\n",
    "for i in range(len(X_sample)):\n",
    "    for j in range(i + 1, len(X_sample)):\n",
    "        assert id(X_sample[i]) != id(X_sample[j])\n",
    "        assert id(y_sample[i]) != id(y_sample[j])\n",
    "\n",
    "index_used = [tensor.item() for sublist in index_used for tensor in sublist]\n",
    "images_sample = [images[i] for i in index_used]\n",
    "X_sample = torch.cat(X_sample)\n",
    "y_sample = torch.cat(y_sample)"
   ]
  },
  {
   "cell_type": "code",
   "execution_count": 6,
   "metadata": {},
   "outputs": [
    {
     "data": {
      "text/plain": [
       "torch.Size([1500, 288])"
      ]
     },
     "execution_count": 6,
     "metadata": {},
     "output_type": "execute_result"
    }
   ],
   "source": [
    "X_sample.shape"
   ]
  },
  {
   "cell_type": "code",
   "execution_count": 7,
   "metadata": {},
   "outputs": [],
   "source": [
    "N = np.size(X_sample, 0); # Defining the number of datapoints\n",
    "in_feat = np.size(X_sample, 1)"
   ]
  },
  {
   "cell_type": "code",
   "execution_count": 8,
   "metadata": {},
   "outputs": [],
   "source": [
    "t = np.arange(0, N)\n",
    "train_split = int(0.8 * N)\n",
    "p = 10"
   ]
  },
  {
   "cell_type": "code",
   "execution_count": 9,
   "metadata": {},
   "outputs": [],
   "source": [
    "epochs = 200\n",
    "learning_rate = 0.001"
   ]
  },
  {
   "cell_type": "code",
   "execution_count": 10,
   "metadata": {},
   "outputs": [],
   "source": [
    "# Split of the data for training and test\n",
    "X_train, X_test, y_train, y_test = train_test_split(\n",
    "    X_sample,\n",
    "    y_sample,\n",
    "    train_size = train_split,\n",
    "    random_state=42\n",
    ") \n",
    "\n",
    "## Creating model for single nonlinear effects\n",
    "\n",
    "model_1 = Classifier_NN(in_number=X_sample.shape[1], out_number=y_sample.shape[1]) # Creating the model\n",
    "loss_fcn = nn.CrossEntropyLoss() # Definning loss function\n",
    "optimizer = torch.optim.Adam(model_1.parameters(), lr=learning_rate)\n",
    "\n",
    "# Training loop for the model 1"
   ]
  },
  {
   "cell_type": "code",
   "execution_count": 11,
   "metadata": {},
   "outputs": [
    {
     "name": "stdout",
     "output_type": "stream",
     "text": [
      "Epoch: 0 | Loss: 2.29700 | test Loss: 2.25066\n",
      "Epoch: 10 | Loss: 1.69341 | test Loss: 1.63076\n",
      "Epoch: 20 | Loss: 1.52104 | test Loss: 1.51822\n",
      "Epoch: 30 | Loss: 1.49118 | test Loss: 1.50636\n",
      "Epoch: 40 | Loss: 1.47980 | test Loss: 1.49944\n",
      "Epoch: 50 | Loss: 1.47308 | test Loss: 1.50155\n",
      "Epoch: 60 | Loss: 1.46926 | test Loss: 1.50256\n",
      "Epoch: 70 | Loss: 1.46845 | test Loss: 1.50108\n",
      "Epoch: 80 | Loss: 1.46819 | test Loss: 1.49899\n",
      "Epoch: 90 | Loss: 1.46807 | test Loss: 1.49935\n",
      "Epoch: 100 | Loss: 1.46799 | test Loss: 1.49924\n",
      "Epoch: 110 | Loss: 1.46795 | test Loss: 1.49914\n",
      "Epoch: 120 | Loss: 1.46792 | test Loss: 1.49926\n",
      "Epoch: 130 | Loss: 1.46789 | test Loss: 1.49927\n",
      "Epoch: 140 | Loss: 1.46787 | test Loss: 1.49933\n",
      "Epoch: 150 | Loss: 1.46785 | test Loss: 1.49934\n",
      "Epoch: 160 | Loss: 1.46784 | test Loss: 1.49936\n",
      "Epoch: 170 | Loss: 1.46782 | test Loss: 1.49940\n",
      "Epoch: 180 | Loss: 1.46781 | test Loss: 1.49957\n",
      "Epoch: 190 | Loss: 1.46779 | test Loss: 1.49982\n"
     ]
    }
   ],
   "source": [
    "for epoch in range(epochs):\n",
    "    model_1.train() # Setting the model in training mode\n",
    "    y_prob, x_p, y_lin = model_1(X_train) #forward pass\n",
    "    \n",
    "    loss = loss_fcn(y_prob,\n",
    "                    y_train.float())  # Compute Loss\n",
    "    loss.backward() # compute backward\n",
    "    optimizer.step() # update parameters\n",
    "    optimizer.zero_grad() #zero grad optimizer\n",
    "    \n",
    "    ## Testing\n",
    "    model_1.eval() # Setting the model in evalaution mode\n",
    "    with torch.inference_mode():\n",
    "        y_prob_pred, x_trans, y_lin_pred = model_1(X_test) # Estimating th emodel output in test data\n",
    "    \n",
    "    test_loss = loss_fcn(y_prob_pred,\n",
    "                         y_test.float()) # Evaluating loss\n",
    "    \n",
    "    if epoch % 10 == 0:\n",
    "        print(f'Epoch: {epoch} | Loss: {loss:.5f} | test Loss: {test_loss:.5f}') # Printing the performance of the model as it is trained"
   ]
  },
  {
   "cell_type": "code",
   "execution_count": 12,
   "metadata": {},
   "outputs": [
    {
     "name": "stdout",
     "output_type": "stream",
     "text": [
      "Test Accuracy: 96.000 %\n"
     ]
    }
   ],
   "source": [
    "correct = 0\n",
    "total = 0\n",
    "\n",
    "model_1.eval()\n",
    "with torch.inference_mode():\n",
    "    outputs, _, _ = model_1(X_test)\n",
    "    for tensor, label in zip(outputs, y_test):\n",
    "        predicted = torch.argmax(tensor)\n",
    "        label = torch.argmax(label) \n",
    "        total += 1\n",
    "        correct += (predicted == label).sum().item()\n",
    "\n",
    "accuracy = 100 * correct / total\n",
    "print(f'Test Accuracy: {accuracy:.3f} %')"
   ]
  },
  {
   "cell_type": "code",
   "execution_count": 13,
   "metadata": {},
   "outputs": [],
   "source": [
    "model_1.eval()  # Setting the model in evaluation mode\n",
    "with torch.inference_mode():\n",
    "    y_prob_1, x_trans_total_1, y_est_1 = model_1(\n",
    "        X_sample\n",
    "    )  # Computing the nonlinear transformation of the input data X\n",
    "\n",
    "P_xy_1, y_e_1, Alpha_NN_1 = NObSP_NN_single_MultiOutput(\n",
    "    X_sample, y_est_1, model_1\n",
    ")  # Computing the decomposition using NObSP. The Alpha parameters are the weigths for the Interpretation Layer\n",
    "\n",
    "y_e_Alpha_1 = np.zeros((N, in_feat, p))\n",
    "for i in range(p):\n",
    "    y_e_Alpha_1[:, :, i] = (\n",
    "        x_trans_total_1 @ Alpha_NN_1[:, i * in_feat : i * in_feat + in_feat]\n",
    "    )  # Computing the decomposition using the Alpha coefficients, out-of-sample extension\n",
    "\n",
    "y_e_1 = y_e_1.cpu()"
   ]
  },
  {
   "cell_type": "code",
   "execution_count": 14,
   "metadata": {},
   "outputs": [
    {
     "data": {
      "text/plain": [
       "torch.Size([1500, 288])"
      ]
     },
     "execution_count": 14,
     "metadata": {},
     "output_type": "execute_result"
    }
   ],
   "source": [
    "X_sample.shape"
   ]
  },
  {
   "cell_type": "code",
   "execution_count": 15,
   "metadata": {},
   "outputs": [
    {
     "data": {
      "text/plain": [
       "torch.Size([1500, 288, 10])"
      ]
     },
     "execution_count": 15,
     "metadata": {},
     "output_type": "execute_result"
    }
   ],
   "source": [
    "y_e_1.shape"
   ]
  },
  {
   "cell_type": "code",
   "execution_count": 16,
   "metadata": {},
   "outputs": [
    {
     "data": {
      "image/png": "[encoded data removed]",
      "text/plain": [
       "<Figure size 200x200 with 1 Axes>"
      ]
     },
     "metadata": {},
     "output_type": "display_data"
    }
   ],
   "source": [
    "imshow(torchvision.utils.make_grid(images_sample[0]))"
   ]
  },
  {
   "cell_type": "code",
   "execution_count": 18,
   "metadata": {},
   "outputs": [
    {
     "data": {
      "text/plain": [
       "tensor([ 0.0021, -0.0007, -0.0017, -0.0040,  0.0018,  0.0006,  0.0011,  0.0011,\n",
       "         0.0004,  0.0011])"
      ]
     },
     "execution_count": 18,
     "metadata": {},
     "output_type": "execute_result"
    }
   ],
   "source": [
    "y_e_1[0, 0, :]"
   ]
  },
  {
   "cell_type": "code",
   "execution_count": null,
   "metadata": {},
   "outputs": [],
   "source": []
  }
 ],
 "metadata": {
  "kernelspec": {
   "display_name": "tesis",
   "language": "python",
   "name": "python3"
  },
  "language_info": {
   "codemirror_mode": {
    "name": "ipython",
    "version": 3
   },
   "file_extension": ".py",
   "mimetype": "text/x-python",
   "name": "python",
   "nbconvert_exporter": "python",
   "pygments_lexer": "ipython3",
   "version": "3.11.4"
  }
 },
 "nbformat": 4,
 "nbformat_minor": 2
}
