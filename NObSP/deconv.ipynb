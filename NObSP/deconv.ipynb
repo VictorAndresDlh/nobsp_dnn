{
 "cells": [
  {
   "cell_type": "code",
   "execution_count": 1,
   "metadata": {},
   "outputs": [],
   "source": [
    "import torch\n",
    "import torchvision\n",
    "import torchvision.transforms as transforms\n",
    "from torch.utils.data import DataLoader as tf_dataloader\n",
    "import torch.nn as nn\n",
    "import torch.nn.functional as F\n",
    "from functools import partial\n",
    "import matplotlib.pyplot as plt\n",
    "import numpy as np\n",
    "import cv2\n",
    "from collections import OrderedDict\n",
    "import torch.optim as optim"
   ]
  },
  {
   "cell_type": "code",
   "execution_count": 2,
   "metadata": {},
   "outputs": [],
   "source": [
    "def store(model):\n",
    "    \"\"\"\n",
    "    make hook for feature map\n",
    "    \"\"\"\n",
    "    def hook(module, input, output, key):\n",
    "        if isinstance(module, nn.MaxPool2d):\n",
    "           model.feature_maps[key] = output[0]\n",
    "           model.pool_locs[key] = output[1]\n",
    "        else:\n",
    "           model.feature_maps[key] = output\n",
    "    \n",
    "    for idx, layer in enumerate(model._modules.get('features')):    \n",
    "        # _modules returns an OrderedDict\n",
    "        layer.register_forward_hook(partial(hook, key=idx))"
   ]
  },
  {
   "cell_type": "code",
   "execution_count": 3,
   "metadata": {},
   "outputs": [],
   "source": [
    "class Net(nn.Module):\n",
    "    def __init__(self):\n",
    "        super().__init__()\n",
    "        \n",
    "        self.features = nn.Sequential(\n",
    "            \n",
    "            nn.Conv2d(in_channels=1, out_channels=32, kernel_size=3),\n",
    "            nn.MaxPool2d(kernel_size=3, stride=3, return_indices=True),\n",
    "            \n",
    "            \n",
    "            nn.Conv2d(in_channels=32, out_channels=64, kernel_size=3),\n",
    "            nn.MaxPool2d(kernel_size=3, stride=3, return_indices=True),\n",
    "        )\n",
    "        \n",
    "        self.classifier = nn.Sequential(\n",
    "            nn.Flatten(),\n",
    "            nn.Dropout(p=0.2),\n",
    "            nn.Linear(in_features=256, out_features=128),\n",
    "            nn.Dropout(p=0.2),\n",
    "            nn.Linear(in_features=128, out_features=10),\n",
    "            nn.Softmax(dim=1)\n",
    "        )\n",
    "        \n",
    "        self.conv_layers_indices = [0, 2]\n",
    "        \n",
    "        self.feature_maps = OrderedDict()\n",
    "        \n",
    "        self.pool_locs = OrderedDict()\n",
    "\n",
    "    def forward(self, x):\n",
    "        for idx, layer in enumerate(self.features):\n",
    "            if isinstance(layer, nn.MaxPool2d):\n",
    "                x, location = layer(x)\n",
    "                self.pool_locs[idx] = location\n",
    "            else:\n",
    "                x = layer(x)\n",
    "                \n",
    "        x = x.view(x.size()[0], -1)\n",
    "        output = self.classifier(x)\n",
    "        return output"
   ]
  },
  {
   "cell_type": "code",
   "execution_count": 4,
   "metadata": {},
   "outputs": [],
   "source": [
    "class NetDeconv(nn.Module):\n",
    "    def __init__(self, net):\n",
    "        super().__init__()\n",
    "        \n",
    "        self.features = nn.Sequential(\n",
    "            # Deconv 1\n",
    "            nn.MaxUnpool2d(kernel_size=3, stride=3),\n",
    "            nn.ConvTranspose2d(in_channels=64, out_channels=32, kernel_size=3),\n",
    "            \n",
    "            # Deconv 2\n",
    "            nn.MaxUnpool2d(kernel_size=3, stride=3),\n",
    "            nn.ConvTranspose2d(in_channels=32, out_channels=1, kernel_size=3),\n",
    "        )\n",
    "        \n",
    "        self.conv2deconv_indices = {\n",
    "            0: 1,\n",
    "            2: 3,\n",
    "        }\n",
    "        \n",
    "        self.unpool2pool_indices = {\n",
    "            0: 1,\n",
    "            2: 3,\n",
    "        }\n",
    "        \n",
    "        \n",
    "        # Inicializa los pesos de la red deconvolucional con los pesos de la red convolucional\n",
    "        conv_layers = [layer for idx, layer in enumerate(net.features) if isinstance(layer, nn.Conv2d) and idx in self.conv2deconv_indices.keys()]\n",
    "        deconv_layers = [layer for idx, layer in enumerate(self.features) if isinstance(layer, nn.ConvTranspose2d) and idx in self.conv2deconv_indices.values()]\n",
    "        assert len(conv_layers) == len(deconv_layers), \"Number of convolutional and deconvolutional layers must match\"\n",
    "        for conv_layer, deconv_layer in zip(conv_layers, deconv_layers):\n",
    "            deconv_layer.weight.data = conv_layer.weight.data\n",
    "            deconv_layer.bias.data = torch.tensor([conv_layer.bias.data.mean()])\n",
    "                \n",
    "        \n",
    "    def forward(self, x, layer, activation_idx, pool_locs):\n",
    "        if layer in self.conv2deconv_indices:\n",
    "            start_idx = self.conv2deconv_indices[layer]\n",
    "        else:\n",
    "            raise ValueError('layer is not a conv feature map')\n",
    "\n",
    "        for idx in range(start_idx, len(self.features)):\n",
    "            if isinstance(self.features[idx], nn.MaxUnpool2d):\n",
    "                x = self.features[idx]\\\n",
    "                (x, pool_locs[self.unpool2pool_indices[idx]])\n",
    "            else:\n",
    "                x = self.features[idx](x)\n",
    "                \n",
    "        return x\n",
    "        "
   ]
  },
  {
   "cell_type": "code",
   "execution_count": 5,
   "metadata": {},
   "outputs": [],
   "source": [
    "def vis_layer(layer, net, net_deconv):\n",
    "    \"\"\"\n",
    "    visualing the layer deconv result\n",
    "    \"\"\"\n",
    "    num_feat = net.feature_maps[layer].shape[1]\n",
    "    \n",
    "    # set other feature map activations to zero\n",
    "    new_feat_map = net.feature_maps[layer].clone()\n",
    "\n",
    "    # choose the max activations map\n",
    "    act_lst = []\n",
    "    for i in range(0, num_feat):\n",
    "        choose_map = new_feat_map[0, i, :, :]\n",
    "        activation = torch.max(choose_map)\n",
    "        act_lst.append(activation.item())\n",
    "\n",
    "    act_lst = np.array(act_lst)\n",
    "    mark = np.argmax(act_lst)\n",
    "\n",
    "    choose_map = new_feat_map[0, mark, :, :]\n",
    "    max_activation = torch.max(choose_map)\n",
    "    \n",
    "    # make zeros for other feature maps\n",
    "    if mark == 0:\n",
    "        new_feat_map[:, 1:, :, :] = 0\n",
    "    else:\n",
    "        new_feat_map[:, :mark, :, :] = 0\n",
    "        if mark != net.feature_maps[layer].shape[1] - 1:\n",
    "            new_feat_map[:, mark + 1:, :, :] = 0\n",
    "    \n",
    "    choose_map = torch.where(choose_map==max_activation,\n",
    "            choose_map,\n",
    "            torch.zeros(choose_map.shape)\n",
    "            )\n",
    "\n",
    "    # make zeros for ther activations\n",
    "    new_feat_map[0, mark, :, :] = choose_map\n",
    "    \n",
    "    # print(torch.max(new_feat_map[0, mark, :, :]))    \n",
    "    print(max_activation)\n",
    "    \n",
    "    deconv_output = net_deconv(new_feat_map, layer, mark, net.pool_locs)\n",
    "    #deconv_output = net_deconv(new_feat_map, net.conv_indices, net.pool_indices)\n",
    "\n",
    "    new_img = deconv_output.data.cpu().numpy()[0].transpose(1, 2, 0) # (H, W, C)\n",
    "    # normalize\n",
    "    new_img = (new_img - new_img.min()) / (new_img.max() - new_img.min()) * 255\n",
    "    new_img = new_img.astype(np.uint8)\n",
    "    # cv2.imshow('reconstruction img ' + str(layer), new_img)\n",
    "    # cv2.waitKey()\n",
    "    return new_img, int(max_activation)"
   ]
  },
  {
   "cell_type": "code",
   "execution_count": 6,
   "metadata": {},
   "outputs": [],
   "source": [
    "transform = transforms.Compose(\n",
    "    [transforms.ToTensor(), transforms.Normalize((0.5,), (0.5,))]\n",
    ")\n",
    "\n",
    "batch_size = 1\n",
    "\n",
    "trainset = torchvision.datasets.MNIST(\n",
    "    root=\"./data\", train=True, download=True, transform=transform\n",
    ")\n",
    "trainloader = tf_dataloader(\n",
    "    trainset, batch_size=batch_size, shuffle=True, num_workers=2\n",
    ")\n",
    "\n",
    "testset = torchvision.datasets.MNIST(\n",
    "    root=\"./data\", train=False, download=True, transform=transform\n",
    ")\n",
    "testloader = tf_dataloader(testset, batch_size=batch_size, shuffle=False, num_workers=2)\n",
    "\n",
    "classes = tuple(str(i) for i in range(10))  # MNIST classes are digits from 0 to 9\n"
   ]
  },
  {
   "cell_type": "code",
   "execution_count": 7,
   "metadata": {},
   "outputs": [
    {
     "data": {
      "image/png": "[encoded data removed]",
      "text/plain": [
       "<Figure size 640x480 with 1 Axes>"
      ]
     },
     "metadata": {},
     "output_type": "display_data"
    }
   ],
   "source": [
    "# functions to show an image\n",
    "def imshow(img):\n",
    "    img = img.cpu().numpy()[0].transpose(1, 2, 0)\n",
    "    img = (img * 0.5) + 0.5\n",
    "    plt.imshow(img)\n",
    "    plt.axis('off') \n",
    "    plt.savefig('image.jpg', transparent=True, bbox_inches='tight', pad_inches=0)\n",
    "    plt.show()\n",
    "    return img\n",
    "\n",
    "# get some random training images\n",
    "dataiter = iter(trainloader)\n",
    "images, labels = next(dataiter)\n",
    "\n",
    "img_path = 'image.jpg'\n",
    "# show images\n",
    "img = imshow(images)"
   ]
  },
  {
   "cell_type": "code",
   "execution_count": 8,
   "metadata": {},
   "outputs": [
    {
     "name": "stdout",
     "output_type": "stream",
     "text": [
      "Predicted: 4 Actual: tensor(4)\n"
     ]
    }
   ],
   "source": [
    "net = Net()\n",
    "net.load_state_dict(torch.load('net_deconv.pth'))\n",
    "net.eval()\n",
    "store(net)\n",
    "conv_output = net(images.clone().detach())\n",
    "pool_locs = net.pool_locs\n",
    "print('Predicted:', classes[torch.argmax(conv_output)], 'Actual:', labels[0])"
   ]
  },
  {
   "cell_type": "code",
   "execution_count": 9,
   "metadata": {},
   "outputs": [
    {
     "name": "stdout",
     "output_type": "stream",
     "text": [
      "tensor(2.1933, grad_fn=<MaxBackward1>)\n"
     ]
    },
    {
     "ename": "RuntimeError",
     "evalue": "Expected shape of indices to be same as that of the input tensor ([1, 1, 28, 28]) but got indices tensor with shape: [1, 64, 2, 2]",
     "output_type": "error",
     "traceback": [
      "\u001b[0;31m---------------------------------------------------------------------------\u001b[0m",
      "\u001b[0;31mRuntimeError\u001b[0m                              Traceback (most recent call last)",
      "Cell \u001b[0;32mIn[9], line 13\u001b[0m\n\u001b[1;32m     11\u001b[0m \u001b[38;5;28;01mfor\u001b[39;00m idx, layer \u001b[38;5;129;01min\u001b[39;00m \u001b[38;5;28menumerate\u001b[39m(net\u001b[38;5;241m.\u001b[39mconv_layers_indices):        \n\u001b[1;32m     12\u001b[0m     plt\u001b[38;5;241m.\u001b[39msubplot(\u001b[38;5;241m2\u001b[39m, \u001b[38;5;241m4\u001b[39m, idx\u001b[38;5;241m+\u001b[39m\u001b[38;5;241m2\u001b[39m)\n\u001b[0;32m---> 13\u001b[0m     img, activation \u001b[38;5;241m=\u001b[39m vis_layer(layer, net, net_deconv)\n\u001b[1;32m     14\u001b[0m     plt\u001b[38;5;241m.\u001b[39mtitle(\u001b[38;5;124mf\u001b[39m\u001b[38;5;124m'\u001b[39m\u001b[38;5;132;01m{\u001b[39;00mlayer\u001b[38;5;132;01m}\u001b[39;00m\u001b[38;5;124m layer, the max activations is \u001b[39m\u001b[38;5;132;01m{\u001b[39;00mactivation\u001b[38;5;132;01m}\u001b[39;00m\u001b[38;5;124m'\u001b[39m)\n\u001b[1;32m     15\u001b[0m     \u001b[38;5;66;03m# img = img[112:,112:,:]\u001b[39;00m\n",
      "Cell \u001b[0;32mIn[5], line 42\u001b[0m, in \u001b[0;36mvis_layer\u001b[0;34m(layer, net, net_deconv)\u001b[0m\n\u001b[1;32m     39\u001b[0m \u001b[38;5;66;03m# print(torch.max(new_feat_map[0, mark, :, :]))    \u001b[39;00m\n\u001b[1;32m     40\u001b[0m \u001b[38;5;28mprint\u001b[39m(max_activation)\n\u001b[0;32m---> 42\u001b[0m deconv_output \u001b[38;5;241m=\u001b[39m net_deconv(new_feat_map, layer, mark, net\u001b[38;5;241m.\u001b[39mpool_locs)\n\u001b[1;32m     43\u001b[0m \u001b[38;5;66;03m#deconv_output = net_deconv(new_feat_map, net.conv_indices, net.pool_indices)\u001b[39;00m\n\u001b[1;32m     45\u001b[0m new_img \u001b[38;5;241m=\u001b[39m deconv_output\u001b[38;5;241m.\u001b[39mdata\u001b[38;5;241m.\u001b[39mcpu()\u001b[38;5;241m.\u001b[39mnumpy()[\u001b[38;5;241m0\u001b[39m]\u001b[38;5;241m.\u001b[39mtranspose(\u001b[38;5;241m1\u001b[39m, \u001b[38;5;241m2\u001b[39m, \u001b[38;5;241m0\u001b[39m) \u001b[38;5;66;03m# (H, W, C)\u001b[39;00m\n",
      "File \u001b[0;32m/opt/homebrew/Caskroom/miniconda/base/envs/tesis/lib/python3.11/site-packages/torch/nn/modules/module.py:1501\u001b[0m, in \u001b[0;36mModule._call_impl\u001b[0;34m(self, *args, **kwargs)\u001b[0m\n\u001b[1;32m   1496\u001b[0m \u001b[38;5;66;03m# If we don't have any hooks, we want to skip the rest of the logic in\u001b[39;00m\n\u001b[1;32m   1497\u001b[0m \u001b[38;5;66;03m# this function, and just call forward.\u001b[39;00m\n\u001b[1;32m   1498\u001b[0m \u001b[38;5;28;01mif\u001b[39;00m \u001b[38;5;129;01mnot\u001b[39;00m (\u001b[38;5;28mself\u001b[39m\u001b[38;5;241m.\u001b[39m_backward_hooks \u001b[38;5;129;01mor\u001b[39;00m \u001b[38;5;28mself\u001b[39m\u001b[38;5;241m.\u001b[39m_backward_pre_hooks \u001b[38;5;129;01mor\u001b[39;00m \u001b[38;5;28mself\u001b[39m\u001b[38;5;241m.\u001b[39m_forward_hooks \u001b[38;5;129;01mor\u001b[39;00m \u001b[38;5;28mself\u001b[39m\u001b[38;5;241m.\u001b[39m_forward_pre_hooks\n\u001b[1;32m   1499\u001b[0m         \u001b[38;5;129;01mor\u001b[39;00m _global_backward_pre_hooks \u001b[38;5;129;01mor\u001b[39;00m _global_backward_hooks\n\u001b[1;32m   1500\u001b[0m         \u001b[38;5;129;01mor\u001b[39;00m _global_forward_hooks \u001b[38;5;129;01mor\u001b[39;00m _global_forward_pre_hooks):\n\u001b[0;32m-> 1501\u001b[0m     \u001b[38;5;28;01mreturn\u001b[39;00m forward_call(\u001b[38;5;241m*\u001b[39margs, \u001b[38;5;241m*\u001b[39m\u001b[38;5;241m*\u001b[39mkwargs)\n\u001b[1;32m   1502\u001b[0m \u001b[38;5;66;03m# Do not call functions when jit is used\u001b[39;00m\n\u001b[1;32m   1503\u001b[0m full_backward_hooks, non_full_backward_hooks \u001b[38;5;241m=\u001b[39m [], []\n",
      "Cell \u001b[0;32mIn[4], line 43\u001b[0m, in \u001b[0;36mNetDeconv.forward\u001b[0;34m(self, x, layer, activation_idx, pool_locs)\u001b[0m\n\u001b[1;32m     41\u001b[0m \u001b[38;5;28;01mfor\u001b[39;00m idx \u001b[38;5;129;01min\u001b[39;00m \u001b[38;5;28mrange\u001b[39m(start_idx, \u001b[38;5;28mlen\u001b[39m(\u001b[38;5;28mself\u001b[39m\u001b[38;5;241m.\u001b[39mfeatures)):\n\u001b[1;32m     42\u001b[0m     \u001b[38;5;28;01mif\u001b[39;00m \u001b[38;5;28misinstance\u001b[39m(\u001b[38;5;28mself\u001b[39m\u001b[38;5;241m.\u001b[39mfeatures[idx], nn\u001b[38;5;241m.\u001b[39mMaxUnpool2d):\n\u001b[0;32m---> 43\u001b[0m         x \u001b[38;5;241m=\u001b[39m \u001b[38;5;28mself\u001b[39m\u001b[38;5;241m.\u001b[39mfeatures[idx]\\\n\u001b[1;32m     44\u001b[0m         (x, pool_locs[\u001b[38;5;28mself\u001b[39m\u001b[38;5;241m.\u001b[39munpool2pool_indices[idx]])\n\u001b[1;32m     45\u001b[0m     \u001b[38;5;28;01melse\u001b[39;00m:\n\u001b[1;32m     46\u001b[0m         x \u001b[38;5;241m=\u001b[39m \u001b[38;5;28mself\u001b[39m\u001b[38;5;241m.\u001b[39mfeatures[idx](x)\n",
      "File \u001b[0;32m/opt/homebrew/Caskroom/miniconda/base/envs/tesis/lib/python3.11/site-packages/torch/nn/modules/module.py:1501\u001b[0m, in \u001b[0;36mModule._call_impl\u001b[0;34m(self, *args, **kwargs)\u001b[0m\n\u001b[1;32m   1496\u001b[0m \u001b[38;5;66;03m# If we don't have any hooks, we want to skip the rest of the logic in\u001b[39;00m\n\u001b[1;32m   1497\u001b[0m \u001b[38;5;66;03m# this function, and just call forward.\u001b[39;00m\n\u001b[1;32m   1498\u001b[0m \u001b[38;5;28;01mif\u001b[39;00m \u001b[38;5;129;01mnot\u001b[39;00m (\u001b[38;5;28mself\u001b[39m\u001b[38;5;241m.\u001b[39m_backward_hooks \u001b[38;5;129;01mor\u001b[39;00m \u001b[38;5;28mself\u001b[39m\u001b[38;5;241m.\u001b[39m_backward_pre_hooks \u001b[38;5;129;01mor\u001b[39;00m \u001b[38;5;28mself\u001b[39m\u001b[38;5;241m.\u001b[39m_forward_hooks \u001b[38;5;129;01mor\u001b[39;00m \u001b[38;5;28mself\u001b[39m\u001b[38;5;241m.\u001b[39m_forward_pre_hooks\n\u001b[1;32m   1499\u001b[0m         \u001b[38;5;129;01mor\u001b[39;00m _global_backward_pre_hooks \u001b[38;5;129;01mor\u001b[39;00m _global_backward_hooks\n\u001b[1;32m   1500\u001b[0m         \u001b[38;5;129;01mor\u001b[39;00m _global_forward_hooks \u001b[38;5;129;01mor\u001b[39;00m _global_forward_pre_hooks):\n\u001b[0;32m-> 1501\u001b[0m     \u001b[38;5;28;01mreturn\u001b[39;00m forward_call(\u001b[38;5;241m*\u001b[39margs, \u001b[38;5;241m*\u001b[39m\u001b[38;5;241m*\u001b[39mkwargs)\n\u001b[1;32m   1502\u001b[0m \u001b[38;5;66;03m# Do not call functions when jit is used\u001b[39;00m\n\u001b[1;32m   1503\u001b[0m full_backward_hooks, non_full_backward_hooks \u001b[38;5;241m=\u001b[39m [], []\n",
      "File \u001b[0;32m/opt/homebrew/Caskroom/miniconda/base/envs/tesis/lib/python3.11/site-packages/torch/nn/modules/pooling.py:414\u001b[0m, in \u001b[0;36mMaxUnpool2d.forward\u001b[0;34m(self, input, indices, output_size)\u001b[0m\n\u001b[1;32m    413\u001b[0m \u001b[38;5;28;01mdef\u001b[39;00m \u001b[38;5;21mforward\u001b[39m(\u001b[38;5;28mself\u001b[39m, \u001b[38;5;28minput\u001b[39m: Tensor, indices: Tensor, output_size: Optional[List[\u001b[38;5;28mint\u001b[39m]] \u001b[38;5;241m=\u001b[39m \u001b[38;5;28;01mNone\u001b[39;00m) \u001b[38;5;241m-\u001b[39m\u001b[38;5;241m>\u001b[39m Tensor:\n\u001b[0;32m--> 414\u001b[0m     \u001b[38;5;28;01mreturn\u001b[39;00m F\u001b[38;5;241m.\u001b[39mmax_unpool2d(\u001b[38;5;28minput\u001b[39m, indices, \u001b[38;5;28mself\u001b[39m\u001b[38;5;241m.\u001b[39mkernel_size, \u001b[38;5;28mself\u001b[39m\u001b[38;5;241m.\u001b[39mstride,\n\u001b[1;32m    415\u001b[0m                           \u001b[38;5;28mself\u001b[39m\u001b[38;5;241m.\u001b[39mpadding, output_size)\n",
      "File \u001b[0;32m/opt/homebrew/Caskroom/miniconda/base/envs/tesis/lib/python3.11/site-packages/torch/nn/functional.py:980\u001b[0m, in \u001b[0;36mmax_unpool2d\u001b[0;34m(input, indices, kernel_size, stride, padding, output_size)\u001b[0m\n\u001b[1;32m    978\u001b[0m padding \u001b[38;5;241m=\u001b[39m _pair(padding)\n\u001b[1;32m    979\u001b[0m output_size \u001b[38;5;241m=\u001b[39m _unpool_output_size(\u001b[38;5;28minput\u001b[39m, kernel_size, _stride, padding, output_size)\n\u001b[0;32m--> 980\u001b[0m \u001b[38;5;28;01mreturn\u001b[39;00m torch\u001b[38;5;241m.\u001b[39m_C\u001b[38;5;241m.\u001b[39m_nn\u001b[38;5;241m.\u001b[39mmax_unpool2d(\u001b[38;5;28minput\u001b[39m, indices, output_size)\n",
      "\u001b[0;31mRuntimeError\u001b[0m: Expected shape of indices to be same as that of the input tensor ([1, 1, 28, 28]) but got indices tensor with shape: [1, 64, 2, 2]"
     ]
    },
    {
     "data": {
      "image/png": "[encoded data removed]",
      "text/plain": [
       "<Figure size 1280x960 with 2 Axes>"
      ]
     },
     "metadata": {},
     "output_type": "display_data"
    }
   ],
   "source": [
    "# backward processing\n",
    "net_deconv = NetDeconv(net)\n",
    "net_deconv.eval()\n",
    "plt.figure(num=None, figsize=(16, 12), dpi=80)\n",
    "plt.subplot(2, 4, 1)\n",
    "plt.title('original picture')\n",
    "img = cv2.imread(img_path)\n",
    "img = cv2.resize(img, (224, 224))\n",
    "plt.imshow(img)    \n",
    "#for idx, layer in enumerate([14, 17, 19, 21, 24, 26, 28]):\n",
    "for idx, layer in enumerate(net.conv_layers_indices):        \n",
    "    plt.subplot(2, 4, idx+2)\n",
    "    img, activation = vis_layer(layer, net, net_deconv)\n",
    "    plt.title(f'{layer} layer, the max activations is {activation}')\n",
    "    # img = img[112:,112:,:]\n",
    "    plt.imshow(img)\n",
    "    # plt.colorbar()"
   ]
  }
 ],
 "metadata": {
  "kernelspec": {
   "display_name": "tesis",
   "language": "python",
   "name": "python3"
  },
  "language_info": {
   "codemirror_mode": {
    "name": "ipython",
    "version": 3
   },
   "file_extension": ".py",
   "mimetype": "text/x-python",
   "name": "python",
   "nbconvert_exporter": "python",
   "pygments_lexer": "ipython3",
   "version": "3.11.4"
  }
 },
 "nbformat": 4,
 "nbformat_minor": 2
}
