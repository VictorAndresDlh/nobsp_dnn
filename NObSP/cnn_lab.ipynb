{
 "cells": [
  {
   "cell_type": "code",
   "execution_count": 1,
   "metadata": {},
   "outputs": [],
   "source": [
    "import torch\n",
    "import torchvision\n",
    "import torchvision.transforms as transforms\n",
    "from sklearn.model_selection import train_test_split\n",
    "from NObSP_Decomposition import NObSP_NN_single_MultiOutput\n",
    "from Classifier_NN import Classifier_NN\n",
    "from torch.utils.data import DataLoader as tf_dataloader"
   ]
  },
  {
   "cell_type": "code",
   "execution_count": 2,
   "metadata": {},
   "outputs": [
    {
     "name": "stdout",
     "output_type": "stream",
     "text": [
      "Files already downloaded and verified\n",
      "Files already downloaded and verified\n"
     ]
    }
   ],
   "source": [
    "transform = transforms.Compose(\n",
    "    [transforms.ToTensor(),\n",
    "     transforms.Normalize((0.5, 0.5, 0.5), (0.5, 0.5, 0.5))])\n",
    "\n",
    "batch_size = 1\n",
    "\n",
    "trainset = torchvision.datasets.CIFAR10(root='./data', train=True,\n",
    "                                        download=True, transform=transform)\n",
    "trainloader = tf_dataloader(trainset, batch_size=batch_size,\n",
    "                         shuffle=True, num_workers=2)\n",
    "\n",
    "testset = torchvision.datasets.CIFAR10(root='./data', train=False,\n",
    "                                       download=True, transform=transform)\n",
    "testloader = tf_dataloader(testset, batch_size=batch_size,\n",
    "                        shuffle=False, num_workers=2)\n",
    "\n",
    "classes = ('plane', 'car', 'bird', 'cat',\n",
    "           'deer', 'dog', 'frog', 'horse', 'ship', 'truck')"
   ]
  },
  {
   "cell_type": "code",
   "execution_count": 3,
   "metadata": {},
   "outputs": [
    {
     "data": {
      "image/png": "[encoded data removed]",
      "text/plain": [
       "<Figure size 640x480 with 1 Axes>"
      ]
     },
     "metadata": {},
     "output_type": "display_data"
    },
    {
     "name": "stdout",
     "output_type": "stream",
     "text": [
      "plane\n"
     ]
    }
   ],
   "source": [
    "import matplotlib.pyplot as plt\n",
    "import numpy as np\n",
    "\n",
    "# functions to show an image\n",
    "\n",
    "\n",
    "def imshow(img):\n",
    "    img = img / 2 + 0.5     # unnormalize\n",
    "    npimg = img.numpy()\n",
    "    plt.imshow(np.transpose(npimg, (1, 2, 0)))\n",
    "    plt.show()\n",
    "\n",
    "\n",
    "# get some random training images\n",
    "dataiter = iter(trainloader)\n",
    "images, labels = next(dataiter)\n",
    "\n",
    "# show images\n",
    "imshow(torchvision.utils.make_grid(images))\n",
    "# print labels\n",
    "print(' '.join(f'{classes[labels[j]]:5s}' for j in range(batch_size)))"
   ]
  },
  {
   "cell_type": "code",
   "execution_count": 4,
   "metadata": {},
   "outputs": [],
   "source": [
    "import torch.nn as nn\n",
    "import torch.nn.functional as F\n",
    "\n",
    "\n",
    "class Net(nn.Module):\n",
    "    def __init__(self):\n",
    "        super().__init__()\n",
    "        self.conv1 = nn.Conv2d(3, 6, 5)\n",
    "        self.pool = nn.MaxPool2d(2, 2)\n",
    "        self.conv2 = nn.Conv2d(6, 16, 5)\n",
    "        self.flatten = nn.Flatten()\n",
    "        self.fc1 = nn.Linear(16 * 5 * 5, 120)\n",
    "        self.fc2 = nn.Linear(120, 84)\n",
    "        self.fc3 = nn.Linear(84, 10)\n",
    "\n",
    "    def forward(self, x):\n",
    "        x = self.pool(F.relu(self.conv1(x)))\n",
    "        x = self.pool(F.relu(self.conv2(x)))\n",
    "        x = self.flatten(x)  \n",
    "        x = F.relu(self.fc1(x))\n",
    "        x = F.relu(self.fc2(x))\n",
    "        x = self.fc3(x)\n",
    "        return x\n",
    "\n",
    "\n",
    "net = Net()"
   ]
  },
  {
   "cell_type": "code",
   "execution_count": 5,
   "metadata": {},
   "outputs": [
    {
     "data": {
      "text/plain": [
       "<torch.utils.hooks.RemovableHandle at 0x1093d2450>"
      ]
     },
     "execution_count": 5,
     "metadata": {},
     "output_type": "execute_result"
    }
   ],
   "source": [
    "def hook(module, input, output):\n",
    "    output_tensors.append(output)\n",
    "\n",
    "net.fc2.register_forward_hook(hook)"
   ]
  },
  {
   "cell_type": "code",
   "execution_count": 6,
   "metadata": {},
   "outputs": [],
   "source": [
    "import torch.optim as optim\n",
    "\n",
    "criterion = nn.CrossEntropyLoss()\n",
    "optimizer = optim.SGD(net.parameters(), lr=0.001, momentum=0.9)"
   ]
  },
  {
   "cell_type": "code",
   "execution_count": 7,
   "metadata": {},
   "outputs": [
    {
     "name": "stdout",
     "output_type": "stream",
     "text": [
      "[1, 10000] loss: 9.897\n",
      "[1, 20000] loss: 8.486\n",
      "[1, 30000] loss: 8.001\n",
      "[1, 40000] loss: 7.801\n",
      "[1, 50000] loss: 7.660\n",
      "[2, 10000] loss: 7.351\n",
      "[2, 20000] loss: 7.269\n",
      "[2, 30000] loss: 7.371\n",
      "[2, 40000] loss: 7.230\n",
      "[2, 50000] loss: 7.290\n",
      "Finished Training\n"
     ]
    }
   ],
   "source": [
    "for epoch in range(2):  # loop over the dataset multiple times\n",
    "    output_tensors = []\n",
    "    running_loss = 0.0\n",
    "    y = []\n",
    "    for i, data in enumerate(trainloader, 0):\n",
    "        # get the inputs; data is a list of [inputs, labels]\n",
    "        inputs, labels = data\n",
    "        y.append(labels)\n",
    "\n",
    "        # zero the parameter gradients\n",
    "        optimizer.zero_grad()\n",
    "\n",
    "        # forward + backward + optimize\n",
    "        outputs = net(inputs)\n",
    "        loss = criterion(outputs, labels)\n",
    "        loss.backward()\n",
    "        optimizer.step()\n",
    "\n",
    "        # print statistics\n",
    "        running_loss += loss.item()\n",
    "        if i % 10000 == 9999:    # print every 10000 mini-batches\n",
    "            print(f'[{epoch + 1}, {i + 1:5d}] loss: {running_loss / 2000:.3f}')\n",
    "            running_loss = 0.0\n",
    "\n",
    "print('Finished Training')"
   ]
  },
  {
   "cell_type": "code",
   "execution_count": 8,
   "metadata": {},
   "outputs": [],
   "source": [
    "X = torch.cat(output_tensors, dim=0).detach()\n",
    "y = torch.cat(y, dim=0)\n",
    "y = torch.nn.functional.one_hot(y, num_classes=10)"
   ]
  },
  {
   "cell_type": "code",
   "execution_count": 9,
   "metadata": {},
   "outputs": [],
   "source": [
    "N = np.size(X,0); # Defining the number of datapoints\n",
    "in_feat = np.size(X,1)"
   ]
  },
  {
   "cell_type": "code",
   "execution_count": 10,
   "metadata": {},
   "outputs": [],
   "source": [
    "t = np.arange(0, N)\n",
    "train_split = int(0.8 * N)\n",
    "p = 10"
   ]
  },
  {
   "cell_type": "code",
   "execution_count": 11,
   "metadata": {},
   "outputs": [],
   "source": [
    "# Normalizing the input data\n",
    "X_mean = torch.mean(X,dim=0) \n",
    "X_var = torch.var(X,dim=0)\n",
    "X = (X-X_mean)/X_var"
   ]
  },
  {
   "cell_type": "code",
   "execution_count": 12,
   "metadata": {},
   "outputs": [],
   "source": [
    "epochs = 1000\n",
    "learning_rate = 0.02"
   ]
  },
  {
   "cell_type": "code",
   "execution_count": 13,
   "metadata": {},
   "outputs": [],
   "source": [
    "# Split of the data for training and test\n",
    "X_train, X_test, y_train, y_test = train_test_split(X,\n",
    "                                                    y,\n",
    "                                                    train_size = train_split,\n",
    "                                                    random_state=42) \n",
    "\n",
    "\n",
    "## Creating model for single nonlinear effects\n",
    "\n",
    "model_1 = Classifier_NN(in_feat,p) # Creating the model\n",
    "loss_fcn = nn.CrossEntropyLoss() # Definning loss function\n",
    "optimizer = torch.optim.SGD(params=model_1.parameters(),\n",
    "                            lr=learning_rate)  # Defining optimizer\n",
    "\n",
    "# Training loop for the model 1"
   ]
  },
  {
   "cell_type": "code",
   "execution_count": 14,
   "metadata": {},
   "outputs": [
    {
     "name": "stdout",
     "output_type": "stream",
     "text": [
      "Epoch: 0 | Loss: 2.30260 | test Loss: 2.30266\n",
      "Epoch: 100 | Loss: 2.30141 | test Loss: 2.30144\n",
      "Epoch: 200 | Loss: 2.30013 | test Loss: 2.30013\n",
      "Epoch: 300 | Loss: 2.29872 | test Loss: 2.29867\n",
      "Epoch: 400 | Loss: 2.29710 | test Loss: 2.29699\n",
      "Epoch: 500 | Loss: 2.29517 | test Loss: 2.29498\n",
      "Epoch: 600 | Loss: 2.29278 | test Loss: 2.29244\n",
      "Epoch: 700 | Loss: 2.28972 | test Loss: 2.28917\n",
      "Epoch: 800 | Loss: 2.28591 | test Loss: 2.28508\n",
      "Epoch: 900 | Loss: 2.28153 | test Loss: 2.28039\n"
     ]
    }
   ],
   "source": [
    "for epoch in range(epochs):\n",
    "    model_1.train() # Setting the model in training mode\n",
    "    y_prob, x_p, y_lin = model_1(X_train) #forward pass\n",
    "    \n",
    "    loss = loss_fcn(y_prob,\n",
    "                    y_train.float())  # Compute Loss\n",
    "    loss.backward() # compute backward\n",
    "    optimizer.step() # update parameters\n",
    "    optimizer.zero_grad() #zero grad optimizer\n",
    "    \n",
    "    ## Testing\n",
    "    model_1.eval() # Setting the model in evalaution mode\n",
    "    with torch.inference_mode():\n",
    "        y_prob_pred, x_trans, y_lin_pred = model_1(X_test) # Estimating th emodel output in test data\n",
    "    \n",
    "    test_loss = loss_fcn(y_prob_pred,\n",
    "                         y_test.float()) # Evaluating loss\n",
    "    \n",
    "    if epoch % 100 == 0:\n",
    "        print(f'Epoch: {epoch} | Loss: {loss:.5f} | test Loss: {test_loss:.5f}') # Printing the performance of the model as it is trained"
   ]
  },
  {
   "cell_type": "code",
   "execution_count": 15,
   "metadata": {},
   "outputs": [
    {
     "ename": "",
     "evalue": "",
     "output_type": "error",
     "traceback": [
      "\u001b[1;31mEl Kernel se bloqueó al ejecutar código en la celda actual o en una celda anterior. Revise el código de las celdas para identificar una posible causa del error. Haga clic <a href='https://aka.ms/vscodeJupyterKernelCrash'>aquí</a> para obtener más información. Vea el [registro] de Jupyter (command:jupyter.viewOutput) para obtener más detalles."
     ]
    },
    {
     "ename": "",
     "evalue": "",
     "output_type": "error",
     "traceback": [
      "\u001b[1;31mCanceled future for execute_request message before replies were done"
     ]
    }
   ],
   "source": [
    "model_1.eval() # Setting the model in evaluation mode\n",
    "with torch.inference_mode():\n",
    "    y_prob_1, x_trans_total_1, y_est_1 = model_1(X) # Computin ght enonlinear transformation of the input data X\n",
    "\n",
    "P_xy_1, y_e_1, Alpha_NN_1 = NObSP_NN_single_MultiOutput(X, y_est_1, model_1) # Computing the decomposition iusing NObSP. The Alpha parameters are the weigths for the Interpretation Layer\n",
    "\n",
    "y_e_Alpha_1 = np.zeros((N,in_feat,p))\n",
    "for i in range(p):\n",
    "    y_e_Alpha_1[:,:,i] = (x_trans_total_1@Alpha_NN_1[:,i*in_feat:i*in_feat+in_feat]) # Computing the decomposition using the Alpha coefficients, out-of-sample extension\n",
    "\n",
    "y_e_1 = y_e_1.cpu()"
   ]
  },
  {
   "cell_type": "code",
   "execution_count": null,
   "metadata": {},
   "outputs": [],
   "source": [
    "## Plotting the resutls\n",
    "for i in range(p):\n",
    "    plt.plot(t,y[:,i],t,y_prob_1[:,i]) # Estimated output vs real output\n",
    "    plt.tight_layout()\n",
    "    plt.show()"
   ]
  }
 ],
 "metadata": {
  "kernelspec": {
   "display_name": "tesis",
   "language": "python",
   "name": "python3"
  },
  "language_info": {
   "codemirror_mode": {
    "name": "ipython",
    "version": 3
   },
   "file_extension": ".py",
   "mimetype": "text/x-python",
   "name": "python",
   "nbconvert_exporter": "python",
   "pygments_lexer": "ipython3",
   "version": "3.11.4"
  }
 },
 "nbformat": 4,
 "nbformat_minor": 2
}
