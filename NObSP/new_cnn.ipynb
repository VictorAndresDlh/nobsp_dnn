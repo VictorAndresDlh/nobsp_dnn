{
 "cells": [
  {
   "cell_type": "code",
   "execution_count": 1,
   "metadata": {},
   "outputs": [],
   "source": [
    "import torch\n",
    "import torchvision\n",
    "from torchvision.models import VGG11_Weights\n",
    "import torchvision.transforms as transforms\n",
    "from torch.utils.data import DataLoader as tf_dataloader\n",
    "from torch.utils.data import Subset\n",
    "import torch.nn as nn\n",
    "import torch.nn.functional as F\n",
    "import matplotlib.pyplot as plt\n",
    "import numpy as np\n",
    "import torch.optim as optim"
   ]
  },
  {
   "cell_type": "raw",
   "metadata": {},
   "source": [
    "if torch.backends.mps.is_available():\n",
    "    mps_device = torch.device(\"mps\")\n",
    "    x = torch.ones(1, device=mps_device)\n",
    "    print (x)\n",
    "else:\n",
    "    print (\"MPS device not found.\")"
   ]
  },
  {
   "cell_type": "code",
   "execution_count": 2,
   "metadata": {},
   "outputs": [
    {
     "name": "stdout",
     "output_type": "stream",
     "text": [
      "Files already downloaded and verified\n",
      "Files already downloaded and verified\n"
     ]
    }
   ],
   "source": [
    "transform = transforms.Compose([\n",
    "    #transforms.Resize(256),\n",
    "    #transforms.CenterCrop(224),\n",
    "    transforms.ToTensor(), \n",
    "    transforms.Normalize((0.5,), (0.5,))\n",
    "])\n",
    "\n",
    "batch_size = 1\n",
    "\n",
    "# Train data\n",
    "trainset = torchvision.datasets.CIFAR10(\n",
    "    root=\"./data\", train=True, download=True, transform=transform\n",
    ")\n",
    "trainloader = tf_dataloader(\n",
    "    trainset, batch_size=batch_size, shuffle=True, num_workers=2\n",
    ")\n",
    "\n",
    "\n",
    "# Test data\n",
    "testset = torchvision.datasets.CIFAR10(\n",
    "    root=\"./data\", train=False, download=True, transform=transform\n",
    ")\n",
    "testloader = tf_dataloader(\n",
    "    testset, batch_size=batch_size, shuffle=False, num_workers=2\n",
    ")\n"
   ]
  },
  {
   "cell_type": "code",
   "execution_count": 3,
   "metadata": {},
   "outputs": [],
   "source": [
    "# functions to show an image\n",
    "def imshow(img):\n",
    "    plt.figure(figsize=(2, 2))\n",
    "    img = img / 2 + 0.5  # unnormalize\n",
    "    npimg = img.numpy()\n",
    "    plt.imshow(np.transpose(npimg, (1, 2, 0)))\n",
    "    plt.axis(\"off\")\n",
    "    plt.show()"
   ]
  },
  {
   "cell_type": "code",
   "execution_count": 4,
   "metadata": {},
   "outputs": [
    {
     "name": "stdout",
     "output_type": "stream",
     "text": [
      "tensor([1])\n"
     ]
    },
    {
     "data": {
      "image/png": "[encoded data removed]",
      "text/plain": [
       "<Figure size 200x200 with 1 Axes>"
      ]
     },
     "metadata": {},
     "output_type": "display_data"
    }
   ],
   "source": [
    "# get some random training images\n",
    "dataiter = iter(trainloader)\n",
    "images, labels = next(dataiter)\n",
    "print(labels)\n",
    "imshow(torchvision.utils.make_grid(images))"
   ]
  },
  {
   "cell_type": "code",
   "execution_count": 5,
   "metadata": {},
   "outputs": [
    {
     "name": "stdout",
     "output_type": "stream",
     "text": [
      "tensor([3])\n"
     ]
    },
    {
     "data": {
      "image/png": "[encoded data removed]",
      "text/plain": [
       "<Figure size 200x200 with 1 Axes>"
      ]
     },
     "metadata": {},
     "output_type": "display_data"
    }
   ],
   "source": [
    "# get some random training images\n",
    "dataiter = iter(testloader)\n",
    "images, labels = next(dataiter)\n",
    "print(labels)\n",
    "imshow(torchvision.utils.make_grid(images))"
   ]
  },
  {
   "cell_type": "code",
   "execution_count": 6,
   "metadata": {},
   "outputs": [],
   "source": [
    "class Net(nn.Module):\n",
    "    def __init__(self):\n",
    "        super().__init__()\n",
    "        self.layer1 = nn.Conv2d(in_channels=3, out_channels=16, kernel_size=3, stride=1, padding=1)\n",
    "        self.layer2 = nn.MaxPool2d(kernel_size=2, stride=2)\n",
    "        self.layer3 = nn.Conv2d(in_channels=16, out_channels=32, kernel_size=3, stride=1, padding=1)\n",
    "        self.layer4 = nn.MaxPool2d(kernel_size=2, stride=2)\n",
    "        self.layer5 = nn.Conv2d(in_channels=32, out_channels=64, kernel_size=3, stride=1, padding=1)\n",
    "        self.layer6 = nn.MaxPool2d(kernel_size=2, stride=2)\n",
    "        self.layer7 = nn.Conv2d(in_channels=64, out_channels=128, kernel_size=3, stride=1, padding=1)\n",
    "        self.layer8 = nn.MaxPool2d(kernel_size=2, stride=2)\n",
    "        self.layer9 = nn.Flatten()\n",
    "        self.drop1 = nn.Dropout(p=0.2)\n",
    "        \n",
    "        self.fc1 = nn.Linear(in_features=512, out_features=128)  # Cambiado de 256 a 1024\n",
    "        self.drop2 = nn.Dropout(p=0.2)\n",
    "        self.fc2 = nn.Linear(in_features=128, out_features=256)\n",
    "        self.drop3 = nn.Dropout(p=0.2)\n",
    "        self.fc3 = nn.Linear(in_features=256, out_features=10)\n",
    "\n",
    "    def forward(self, x):\n",
    "        self.x1 = self.layer1(x)\n",
    "        self.x2 = F.elu(self.layer2(self.x1))\n",
    "        self.x3 = self.layer3(self.x2)\n",
    "        self.x4 = F.elu(self.layer4(self.x3))\n",
    "        self.x5 = self.layer5(self.x4)\n",
    "        self.x6 = F.elu(self.layer6(self.x5))\n",
    "        self.x7 = self.layer7(self.x6)\n",
    "        self.x8 = F.elu(self.layer8(self.x7))\n",
    "        self.x9 = self.layer9(self.x8)\n",
    "        self.x10 = self.drop1(self.x9)\n",
    "        \n",
    "        self.x11 = F.relu(self.fc1(self.x10))\n",
    "        self.x12 = self.drop2(self.x11)\n",
    "        self.x13 = F.relu(self.fc2(self.x12))\n",
    "        self.x14 = self.drop3(self.x13)\n",
    "        self.x15 = self.fc3(self.x14)\n",
    "            \n",
    "        return self.x9, F.log_softmax(self.x15, dim=1)\n",
    "\n",
    "net = Net()\n",
    "#net.to(mps_device)"
   ]
  },
  {
   "cell_type": "raw",
   "metadata": {},
   "source": [
    "from torchvision.models import VGG16_Weights as weights\n",
    "net = torchvision.models.vgg16(weights=weights.DEFAULT) \n",
    "#net.classifier[6] = nn.Linear(4096,10)\n",
    "net.final_act = nn.Softmax(dim=1)\n",
    "net.to(mps_device)"
   ]
  },
  {
   "cell_type": "code",
   "execution_count": 7,
   "metadata": {},
   "outputs": [],
   "source": [
    "optimizer = optim.SGD(net.parameters(), lr=0.001, momentum=0.9)"
   ]
  },
  {
   "cell_type": "code",
   "execution_count": 8,
   "metadata": {},
   "outputs": [
    {
     "name": "stdout",
     "output_type": "stream",
     "text": [
      "Train loss at step 0: 2.327\n",
      "Train loss at step 10000: 2.006\n",
      "Train loss at step 20000: 1.834\n",
      "Train loss at step 30000: 1.735\n",
      "Train loss at step 40000: 1.674\n",
      "-----------------------------------\n",
      "Epoch 1\n",
      "Train Loss: 1.638\n",
      "Test Loss: 1.456\n",
      "Train Accuracy: 39.904%\n",
      "Test Accuracy: 48.620%\n",
      "-----------------------------------\n",
      "Train loss at step 0: 0.042\n",
      "Train loss at step 10000: 1.281\n",
      "Train loss at step 20000: 1.280\n",
      "Train loss at step 30000: 1.282\n",
      "Train loss at step 40000: 1.284\n",
      "-----------------------------------\n",
      "Epoch 2\n",
      "Train Loss: 1.293\n",
      "Test Loss: 1.367\n",
      "Train Accuracy: 55.890%\n",
      "Test Accuracy: 55.750%\n",
      "-----------------------------------\n",
      "Train loss at step 0: 1.921\n",
      "Train loss at step 10000: 1.329\n",
      "Train loss at step 20000: 1.347\n",
      "Train loss at step 30000: 1.360\n",
      "Train loss at step 40000: 1.377\n",
      "-----------------------------------\n",
      "Epoch 3\n",
      "Train Loss: 1.392\n",
      "Test Loss: 1.435\n",
      "Train Accuracy: 54.026%\n",
      "Test Accuracy: 53.410%\n",
      "-----------------------------------\n",
      "Train loss at step 0: 0.002\n",
      "Train loss at step 10000: 1.512\n",
      "Train loss at step 20000: 1.566\n",
      "Train loss at step 30000: 1.587\n",
      "Train loss at step 40000: 1.596\n",
      "-----------------------------------\n",
      "Epoch 4\n",
      "Train Loss: 1.610\n",
      "Test Loss: 1.627\n",
      "Train Accuracy: 47.396%\n",
      "Test Accuracy: 46.210%\n",
      "-----------------------------------\n",
      "Train loss at step 0: 0.151\n",
      "Train loss at step 10000: 1.711\n",
      "Train loss at step 20000: 1.754\n",
      "Train loss at step 30000: 1.782\n",
      "Train loss at step 40000: 1.815\n",
      "-----------------------------------\n",
      "Epoch 5\n",
      "Train Loss: 1.833\n",
      "Test Loss: 1.764\n",
      "Train Accuracy: 37.804%\n",
      "Test Accuracy: 38.110%\n",
      "-----------------------------------\n",
      "Train loss at step 0: 1.839\n",
      "Train loss at step 10000: 2.225\n",
      "Train loss at step 20000: 2.265\n",
      "Train loss at step 30000: 2.279\n",
      "Train loss at step 40000: 2.285\n",
      "-----------------------------------\n",
      "Epoch 6\n",
      "Train Loss: 2.277\n",
      "Test Loss: 2.084\n",
      "Train Accuracy: 11.982%\n",
      "Test Accuracy: 22.290%\n",
      "-----------------------------------\n",
      "Train loss at step 0: 2.307\n",
      "Train loss at step 10000: 2.235\n",
      "Train loss at step 20000: 2.225\n",
      "Train loss at step 30000: 2.170\n",
      "Train loss at step 40000: 2.104\n",
      "-----------------------------------\n",
      "Epoch 7\n",
      "Train Loss: 2.055\n",
      "Test Loss: 1.853\n",
      "Train Accuracy: 23.458%\n",
      "Test Accuracy: 35.900%\n",
      "-----------------------------------\n",
      "Train loss at step 0: 1.881\n",
      "Train loss at step 10000: 1.817\n",
      "Train loss at step 20000: 1.881\n",
      "Train loss at step 30000: 1.906\n",
      "Train loss at step 40000: 1.930\n",
      "-----------------------------------\n",
      "Epoch 8\n",
      "Train Loss: 1.946\n",
      "Test Loss: 1.956\n",
      "Train Accuracy: 29.276%\n",
      "Test Accuracy: 23.600%\n",
      "-----------------------------------\n",
      "Train loss at step 0: 2.103\n",
      "Train loss at step 10000: 2.013\n",
      "Train loss at step 20000: 2.158\n",
      "Train loss at step 30000: 2.207\n",
      "Train loss at step 40000: 2.232\n",
      "-----------------------------------\n",
      "Epoch 9\n",
      "Train Loss: 2.247\n",
      "Test Loss: 2.304\n",
      "Train Accuracy: 12.894%\n",
      "Test Accuracy: 10.000%\n",
      "-----------------------------------\n",
      "Train loss at step 0: 2.298\n",
      "Train loss at step 10000: 2.305\n",
      "Train loss at step 20000: 2.305\n",
      "Train loss at step 30000: 2.305\n",
      "Train loss at step 40000: 2.305\n",
      "-----------------------------------\n",
      "Epoch 10\n",
      "Train Loss: 2.305\n",
      "Test Loss: 2.304\n",
      "Train Accuracy: 9.924%\n",
      "Test Accuracy: 10.000%\n",
      "-----------------------------------\n",
      "Train loss at step 0: 2.324\n",
      "Train loss at step 10000: 2.304\n",
      "Train loss at step 20000: 2.305\n",
      "Train loss at step 30000: 2.305\n",
      "Train loss at step 40000: 2.305\n",
      "-----------------------------------\n",
      "Epoch 11\n",
      "Train Loss: 2.305\n",
      "Test Loss: 2.305\n",
      "Train Accuracy: 9.912%\n",
      "Test Accuracy: 10.000%\n",
      "-----------------------------------\n",
      "Train loss at step 0: 2.275\n",
      "Train loss at step 10000: 2.305\n",
      "Train loss at step 20000: 2.305\n",
      "Train loss at step 30000: 2.305\n",
      "Train loss at step 40000: 2.305\n",
      "-----------------------------------\n",
      "Epoch 12\n",
      "Train Loss: 2.305\n",
      "Test Loss: 2.304\n",
      "Train Accuracy: 9.932%\n",
      "Test Accuracy: 10.000%\n",
      "-----------------------------------\n",
      "Early stopping at epoch 12\n",
      "Finished Training\n"
     ]
    }
   ],
   "source": [
    "epochs = 50\n",
    "patience = 10  # Define the number of epochs to tolerate before early stopping\n",
    "best_loss = float('inf')\n",
    "counter = 0\n",
    "\n",
    "y = []\n",
    "images = []\n",
    "tensors = []\n",
    "\n",
    "for epoch in range(epochs):\n",
    "    \n",
    "    train_loss = 0.0\n",
    "    test_loss = 0.0\n",
    "    train_correct = 0\n",
    "    test_correct = 0\n",
    "    \n",
    "    # Train \n",
    "    for i, data in enumerate(trainloader, 0):\n",
    "        # get the inputs; data is a list of [inputs, labels]\n",
    "        inputs, labels = data\n",
    "\n",
    "        # zero the parameter gradients\n",
    "        optimizer.zero_grad()\n",
    "\n",
    "        # forward + backward + optimize\n",
    "        tensor, outputs = net(inputs)\n",
    "        _, predicted = torch.max(outputs.data, 1)\n",
    "        train_correct += (predicted == labels).sum().item()\n",
    "        \n",
    "        loss = F.nll_loss(outputs, labels)\n",
    "        loss.backward()\n",
    "        optimizer.step()\n",
    "        \n",
    "        # print statistics\n",
    "        train_loss += loss.item()\n",
    "        \n",
    "        # print train_loss each time i is multiple of 1000\n",
    "        if i % 10000 == 0:\n",
    "            print(f'Train loss at step {i}: {train_loss/(i+1):.3f}')\n",
    "        \n",
    "        # If we are in the last epoch or the patience has been reached, save all batches of images and labels\n",
    "        if epoch == epochs - 1 or counter == patience - 1:\n",
    "            images.append(inputs)\n",
    "            y.append(labels)\n",
    "            tensors.append(tensor)\n",
    "    \n",
    "    \n",
    "    net.eval()  # Set the model to evaluation mode\n",
    "    with torch.no_grad():\n",
    "        for inputs, labels in testloader:\n",
    "            _, outputs = net(inputs)\n",
    "            _, predicted = torch.max(outputs.data, 1)\n",
    "            test_correct += (predicted == labels).sum().item()\n",
    "            loss = F.nll_loss(outputs, labels)\n",
    "            test_loss += loss.item()\n",
    "    \n",
    "    # Print test loss for the epoch\n",
    "    print(\"-----------------------------------\")\n",
    "    print(f\"Epoch {epoch + 1}\")\n",
    "    print(f\"Train Loss: {train_loss / len(trainloader):.3f}\")\n",
    "    print(f\"Test Loss: {test_loss / len(testloader):.3f}\")\n",
    "    print(f'Train Accuracy: {100 * train_correct / len(trainloader):.3f}%')\n",
    "    print(f'Test Accuracy: {100 * test_correct / len(testloader):.3f}%')\n",
    "    print(\"-----------------------------------\")\n",
    "    \n",
    "\n",
    "    # Check for early stopping\n",
    "    if test_loss < best_loss:\n",
    "        best_loss = test_loss\n",
    "        counter = 0\n",
    "        # Save the best model\n",
    "        torch.save(net.state_dict(), 'best_model_CIFAR_NEW.pth')\n",
    "    else:\n",
    "        counter += 1\n",
    "        if counter >= patience:\n",
    "            print(f\"Early stopping at epoch {epoch + 1}\")\n",
    "            break\n",
    "    \n",
    "    # If we are not in the last epoch and the patience has not been reached, empty the lists\n",
    "    if epoch != epochs - 1 and counter != patience - 1:\n",
    "        images = []\n",
    "        y = []\n",
    "        tensors = []\n",
    "    \n",
    "print(\"Finished Training\")"
   ]
  },
  {
   "cell_type": "code",
   "execution_count": 15,
   "metadata": {},
   "outputs": [
    {
     "name": "stdout",
     "output_type": "stream",
     "text": [
      "Test Accuracy: 55.750 %\n"
     ]
    }
   ],
   "source": [
    "# Evaluating the trained model on test data\n",
    "net.load_state_dict(torch.load('best_model_CIFAR_NEW.pth'))\n",
    "net.eval()  # Set model to evaluation mode\n",
    "correct = 0\n",
    "total = 0\n",
    "\n",
    "with torch.no_grad():\n",
    "    for i, data in enumerate(testloader, 0):\n",
    "        images, labels = data\n",
    "        _, outputs = net(images)\n",
    "        predicted = torch.argmax(outputs, dim=1)\n",
    "        total += labels.size(0)\n",
    "        correct += (predicted == labels).sum().item()\n",
    "\n",
    "accuracy = 100 * correct / total\n",
    "print(f'Test Accuracy: {accuracy:.3f} %')"
   ]
  },
  {
   "cell_type": "code",
   "execution_count": 10,
   "metadata": {},
   "outputs": [],
   "source": [
    "#torch.save(net.state_dict(), f\"cnn_trained_{epochs}_epch.pth\")\n",
    "torch.save(images, \"train_images_CIFAR_NEW.pth\")\n",
    "torch.save(tensors, \"train_tensors_CIFAR_NEW.pth\")\n",
    "torch.save(y, \"train_labels_CIFAR_NEW.pth\")"
   ]
  },
  {
   "cell_type": "code",
   "execution_count": 11,
   "metadata": {},
   "outputs": [
    {
     "name": "stdout",
     "output_type": "stream",
     "text": [
      "tensor([3])\n"
     ]
    },
    {
     "data": {
      "image/png": "[encoded data removed]",
      "text/plain": [
       "<Figure size 200x200 with 1 Axes>"
      ]
     },
     "metadata": {},
     "output_type": "display_data"
    }
   ],
   "source": [
    "# get some random training images\n",
    "dataiter = iter(testloader)\n",
    "images, labels = next(dataiter)\n",
    "print(labels)\n",
    "imshow(torchvision.utils.make_grid(images))"
   ]
  },
  {
   "cell_type": "code",
   "execution_count": 12,
   "metadata": {},
   "outputs": [
    {
     "data": {
      "text/plain": [
       "tensor([3])"
      ]
     },
     "execution_count": 12,
     "metadata": {},
     "output_type": "execute_result"
    }
   ],
   "source": [
    "_, pred = net(images)\n",
    "torch.argmax(pred, dim=1)"
   ]
  },
  {
   "cell_type": "code",
   "execution_count": 13,
   "metadata": {},
   "outputs": [
    {
     "data": {
      "text/plain": [
       "(tensor([[-0.9930, -0.9878, -0.9963, -0.8219, -0.2888, -0.8694,  0.6914,  1.9509,\n",
       "          -0.9944, -0.9862, -0.4830,  3.4323,  1.5340,  0.6111, -0.8613, -0.2141,\n",
       "           3.6032, -0.9924, -0.9237,  3.4550, -0.9999, -0.9985, -0.9723, -0.6630,\n",
       "           4.7938,  1.5803,  2.0416,  2.2208, -0.9129, -0.6031, -0.7946, -0.7020,\n",
       "          -0.8485,  1.2802,  1.2127, -0.7024, -0.7740, -0.9272, -0.7948, -0.8730,\n",
       "          -0.5683, -0.8684, -0.3181,  1.1074, -0.9222, -0.8626, -0.4943, -0.8888,\n",
       "          -0.9245, -0.9396, -0.5823,  2.4039, -0.9902, -0.9958,  2.5993, -0.8424,\n",
       "          -0.9955, -0.9966, -0.9910, -0.3339, -0.8818, -0.5255, -0.9977,  1.6696,\n",
       "          -0.6916,  0.2748,  5.5983,  0.8725, -0.5643, -0.8483, -0.7209,  3.8197,\n",
       "           1.1725, -0.9275, -0.6779,  0.2903, -0.9718, -0.5031, -0.9859, -0.9219,\n",
       "           0.2820,  1.4834, -0.7484,  2.6638,  2.6915, -0.2255,  0.2951,  1.9691,\n",
       "           7.1481, -0.1200, -0.9523, -0.9477,  0.2148, -0.4812,  3.2049, -0.8051,\n",
       "           1.1521, -0.1062,  1.9602,  0.0754, -0.9904, -0.9995,  0.0242, -0.9065,\n",
       "          -0.9719, -0.9956,  3.6954,  1.6632, -0.9489, -0.9989, -0.5127,  1.0437,\n",
       "           0.3871,  6.0133,  2.3903,  2.2623,  0.1985,  1.3601, -0.9664, -0.9361,\n",
       "           7.8973, -0.6779, -0.9821,  4.4248, -0.9942, -0.8114, -0.7692, -0.5147,\n",
       "           3.6406, -0.9759, -0.9616, -0.1062, -0.9563, -0.9998, -0.9612, -0.9835,\n",
       "          -0.9896, -0.9792,  0.4147,  5.0883,  1.3251,  1.7762, -0.9881,  6.6837,\n",
       "           6.5229,  0.3358, -0.9797,  0.4662, -0.3875,  2.3877, -0.6427,  3.6186,\n",
       "          -0.4583, -0.5875, -0.6597,  3.8213, -0.0234, -0.9327, -0.9622, -0.8366,\n",
       "          -0.9318,  1.1844,  3.0044, -0.4949,  0.7375, -0.7190,  0.4444, -0.7641,\n",
       "           0.9947,  0.9918, -0.5451, -0.9409, -0.3036, -0.9935, -0.9855,  0.2919,\n",
       "           2.2222,  1.9123,  0.2913, -0.5360,  4.7597, -0.9570, -0.3612, -0.9030,\n",
       "           1.8387, -0.8184,  0.3029,  1.2041, -0.0638, -0.9694, -0.0482, -0.9359,\n",
       "           2.6391,  7.1664,  5.4651,  2.9576, -0.9970, -0.9985, -0.8108,  2.6159,\n",
       "           0.4412,  6.7600, -0.9971, -0.9346, -0.8438,  1.0121, -0.1405, -0.9988,\n",
       "          -0.6403, -0.9326, -0.9915, -0.3628, -0.9885, -0.9677, -0.9680,  0.4714,\n",
       "          -0.9401, -0.9967, -0.9892, -0.9914, -0.9982, -0.9998,  0.7244,  1.1160,\n",
       "          -0.9927, -0.9963, -0.6560,  2.1441, -0.9908, -0.9999, -0.9480,  1.7667,\n",
       "          -0.7164, -0.9934, -0.8952, -0.3737, -0.9681, -0.9868,  1.6795, -0.9499,\n",
       "          -0.8253, -0.9886,  1.4402,  1.8708,  3.4852, -0.9723,  3.4564,  6.4698,\n",
       "          -0.9922, -0.9284,  3.2124, -0.8482, -0.9527, -0.9804,  0.2568, -0.9571,\n",
       "          -0.9992,  0.2666,  3.7328,  0.6182, -0.8468, -0.9710, -0.3829, -0.6132,\n",
       "           7.5491,  7.0259, -0.9066,  9.2538, -0.9766, -0.8945, -0.5962, -0.5698,\n",
       "          -0.3811,  0.9866,  1.8717,  4.8743, -0.9974, -0.9720, -0.9686, -0.7232,\n",
       "          -0.9365,  4.1707, -0.9342,  1.0799, -0.9601, -0.9923, -0.9101, -0.9004,\n",
       "          -0.9999, -0.9989, -0.9497, -0.9588, -0.9469, -0.9508,  0.0180,  0.0569,\n",
       "          -0.8929, -0.9919, -0.7641, -0.6113, -0.5349, -0.9194, -0.7164,  3.3751,\n",
       "           6.0987, -0.9234, -0.6152, -0.9413, -0.9364, -0.8639, -0.8262, -0.6154,\n",
       "           0.3302, -0.5747, -0.9710,  0.9604, -0.3515, -0.9715,  0.2511, -0.8708,\n",
       "          -0.9537, -0.9978, -0.7995,  0.3119, -0.3293, -0.9189, -0.8108, -0.7104,\n",
       "          -0.9165, -0.9656, -0.8594, -0.0879,  0.7824, -0.8924, -0.9962, -0.9099,\n",
       "          -0.9585, -0.9883, -0.6291, -0.7079,  2.8356,  1.4546,  4.7502, -0.9632,\n",
       "          -0.9517, -0.9976,  0.7327,  1.9251, -0.9851,  4.9981,  2.5123,  2.9681,\n",
       "          -0.8969, -0.9982, -0.9325, -0.3626, -0.9670, -0.9895, -0.9709,  4.8877,\n",
       "           0.6684,  2.1981, -0.0789,  1.0836,  3.6123, -0.9694,  2.2430,  2.8412,\n",
       "          -0.9864, -0.8276, -0.6844, -0.9955,  0.7828, -0.8785,  1.0836,  2.9878,\n",
       "          -0.9870, -0.9963,  3.4759,  0.0756,  4.1254, -0.9784, -0.9786, -0.8689,\n",
       "          -0.9452, -0.9152, -0.1531, -0.5902,  0.4943, -0.9198, -0.9928, -0.8990,\n",
       "          -0.5377,  1.4254,  0.6385, -0.9671,  0.2052,  4.7518, -0.5564,  1.3789,\n",
       "          -0.9996, -0.9819, -0.7345,  0.2531, -0.9998, -0.9995,  5.1198, -0.4536,\n",
       "           1.2632,  1.4792, -0.2279,  0.5907, -0.6329,  0.6202,  2.0321,  0.3865,\n",
       "          -0.9947, -0.9377, -0.9962, -0.0281,  0.3909, -0.9979, -0.9490,  0.7337,\n",
       "          -0.9444, -0.9964, -0.9260, -0.9771, -0.9309, -0.8998,  5.6043,  1.8518,\n",
       "           1.5791, -0.9545,  0.1076,  1.6659,  0.5181,  0.0778, -0.9359,  1.9308,\n",
       "          -0.7900,  0.3179, -0.9186, -0.9633, -0.9898, -0.9989, -0.3535,  3.4246,\n",
       "          -0.9071, -0.9982, -0.7393,  0.8180, -0.7813, -0.9555, -0.3673, -0.8450,\n",
       "          -0.2537, -0.9566,  0.7030, -0.8897, -0.9866, -0.9664, -0.5023,  1.4098,\n",
       "          -0.7895,  5.0903,  4.5806,  0.5519, -0.2082, -0.9266, -0.8700,  0.6129,\n",
       "          -0.9575, -0.9963, -0.6288,  2.7677,  1.6103,  2.6163,  5.1734,  4.3874,\n",
       "           0.2086,  3.4098, -0.9964, -0.9642, -0.9970, -0.5143,  6.2509, -0.7781,\n",
       "           2.7209,  1.6135,  1.6681,  3.2195, -0.8805, -0.9718,  1.2648, -0.9259,\n",
       "          -0.9481, -0.7747,  9.1550,  9.8320,  1.6603,  0.2746, -0.9555,  1.4997,\n",
       "           3.4723,  8.1221,  8.8138, 10.7159,  0.1940, -0.6669, -0.5784,  2.5240]],\n",
       "        grad_fn=<ReshapeAliasBackward0>),\n",
       " tensor([[-5.9860, -3.8410, -3.8343, -0.5768, -5.6424, -1.3524, -2.2397, -5.6825,\n",
       "          -4.3617, -4.8424]], grad_fn=<LogSoftmaxBackward0>))"
      ]
     },
     "execution_count": 13,
     "metadata": {},
     "output_type": "execute_result"
    }
   ],
   "source": [
    "net(images)"
   ]
  }
 ],
 "metadata": {
  "kernelspec": {
   "display_name": "tesis",
   "language": "python",
   "name": "python3"
  },
  "language_info": {
   "codemirror_mode": {
    "name": "ipython",
    "version": 3
   },
   "file_extension": ".py",
   "mimetype": "text/x-python",
   "name": "python",
   "nbconvert_exporter": "python",
   "pygments_lexer": "ipython3",
   "version": "3.11.4"
  }
 },
 "nbformat": 4,
 "nbformat_minor": 2
}
